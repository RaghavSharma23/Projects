{
  "nbformat": 4,
  "nbformat_minor": 0,
  "metadata": {
    "colab": {
      "provenance": []
    },
    "kernelspec": {
      "name": "python3",
      "display_name": "Python 3"
    },
    "language_info": {
      "name": "python"
    }
  },
  "cells": [
    {
      "cell_type": "code",
      "execution_count": null,
      "metadata": {
        "id": "cKoNOdH1dtAu"
      },
      "outputs": [],
      "source": [
        "# Import libraries\n",
        "\n",
        "import pandas as pd\n",
        "from sklearn.feature_extraction.text import TfidfVectorizer\n",
        "from sklearn.metrics.pairwise import linear_kernel\n",
        "from sklearn.neighbors import NearestNeighbors\n",
        "from sklearn.cluster import KMeans\n",
        "\n",
        "\n",
        "# Import necessary libraries (if not already imported)\n",
        "import pandas as pd\n",
        "import numpy as np\n",
        "from sklearn.feature_extraction.text import TfidfVectorizer\n",
        "from sklearn.cluster import KMeans"
      ]
    },
    {
      "cell_type": "code",
      "source": [
        "df = pd.read_csv('netflix_titles.csv')\n",
        "# Replace NaN with an empty string\n",
        "df['description'] = df['description'].fillna('')"
      ],
      "metadata": {
        "id": "molDvc51duLh"
      },
      "execution_count": null,
      "outputs": []
    },
    {
      "cell_type": "code",
      "source": [
        "# Create a TfidfVectorizer and Remove stopwords\n",
        "tfidf = TfidfVectorizer(stop_words='english')\n",
        "# Fit and transform the data to a tfidf matrix\n",
        "tfidf_matrix = tfidf.fit_transform(df['description'])\n",
        "# Print the shape of the tfidf_matrix\n",
        "tfidf_matrix.shape"
      ],
      "metadata": {
        "colab": {
          "base_uri": "https://localhost:8080/"
        },
        "id": "ZEQ6Cy4Bd0Fx",
        "outputId": "c6f127eb-f7e4-40eb-8032-2245e692f5b2"
      },
      "execution_count": null,
      "outputs": [
        {
          "output_type": "execute_result",
          "data": {
            "text/plain": [
              "(6234, 16151)"
            ]
          },
          "metadata": {},
          "execution_count": 20
        }
      ]
    },
    {
      "cell_type": "code",
      "source": [
        "# Compute the cosine similarity between each movie description\n",
        "cosine_sim = linear_kernel(tfidf_matrix, tfidf_matrix)"
      ],
      "metadata": {
        "id": "Kc6HGtT-d6Ev"
      },
      "execution_count": null,
      "outputs": []
    },
    {
      "cell_type": "code",
      "source": [
        "indices = pd.Series(df.index, index=df['title']).drop_duplicates()"
      ],
      "metadata": {
        "id": "YXKm6DBAeAUP"
      },
      "execution_count": null,
      "outputs": []
    },
    {
      "cell_type": "code",
      "source": [
        "def get_recommendations(title, cosine_sim=cosine_sim, num_recommend = 10):\n",
        "    idx = indices[title]\n",
        "# Get the pairwsie similarity scores of all movies with that movie\n",
        "    sim_scores = list(enumerate(cosine_sim[idx]))\n",
        "# Sort the movies based on the similarity scores\n",
        "    sim_scores = sorted(sim_scores, key=lambda x: x[1], reverse=True)\n",
        "# Get the scores of the 10 most similar movies\n",
        "    top_similar = sim_scores[1:num_recommend+1]\n",
        "# Get the movie indices\n",
        "    movie_indices = [i[0] for i in top_similar]\n",
        "# Return the top 10 most similar movies\n",
        "    return df['title'].iloc[movie_indices]"
      ],
      "metadata": {
        "id": "dVco8QpCeElE"
      },
      "execution_count": null,
      "outputs": []
    },
    {
      "cell_type": "code",
      "source": [
        "get_recommendations('Power Rangers Zeo', num_recommend = 20)"
      ],
      "metadata": {
        "id": "-YFRIXcBeF1D",
        "colab": {
          "base_uri": "https://localhost:8080/"
        },
        "outputId": "2c6d877e-e69e-447e-cca3-9e906c1d250e"
      },
      "execution_count": null,
      "outputs": [
        {
          "output_type": "execute_result",
          "data": {
            "text/plain": [
              "3723                                    Power Rangers RPM\n",
              "3725                                Power Rangers Samurai\n",
              "4637              The Adventures of Sharkboy and Lavagirl\n",
              "3715                           Power Rangers Dino Thunder\n",
              "3717                            Power Rangers Jungle Fury\n",
              "5222                                            Possessed\n",
              "4039                                      The Witch Files\n",
              "3716                               Power Rangers in Space\n",
              "6030                         Mighty Morphin Power Rangers\n",
              "3733         Power Rangers Super Samurai: Trickster Treat\n",
              "3732      Power Rangers Super Samurai: Stuck on Christmas\n",
              "3065                          NOVA: The Impossible Flight\n",
              "5648                                       Peaky Blinders\n",
              "5852                                               The OA\n",
              "3722                    Power Rangers Operation Overdrive\n",
              "5935                               SWORDGAI The Animation\n",
              "3728    Power Rangers Samurai: Party Monsters (Hallowe...\n",
              "3729                        Power Rangers Super Megaforce\n",
              "3735                                  Power Rangers Turbo\n",
              "3731                          Power Rangers Super Samurai\n",
              "Name: title, dtype: object"
            ]
          },
          "metadata": {},
          "execution_count": 24
        }
      ]
    },
    {
      "cell_type": "code",
      "source": [
        "def knn_recommendations(title, num_recommend=10):\n",
        "    idx = indices[title]\n",
        "\n",
        "    # Fit a KNN model to find the nearest neighbors\n",
        "    knn = NearestNeighbors(n_neighbors=num_recommend + 1, metric='cosine')\n",
        "    knn.fit(tfidf_matrix)\n",
        "\n",
        "    distances, indices = knn.kneighbors(tfidf_matrix[idx], n_neighbors=num_recommend + 1)\n",
        "\n",
        "    # Get the indices of the most similar movies\n",
        "    movie_indices = indices.flatten()[1:]\n",
        "\n",
        "    # Return the top 10 most similar movies\n",
        "    return df['title'].iloc[movie_indices]"
      ],
      "metadata": {
        "id": "4bnoC4GReFoR"
      },
      "execution_count": null,
      "outputs": []
    },
    {
      "cell_type": "code",
      "source": [
        "def kmeans_recommendations(title, num_recommend=10):\n",
        "    idx = indices['title']\n",
        "\n",
        "    # Fit a K-Means model to cluster similar movie descriptions\n",
        "    num_clusters = 10  # You can adjust the number of clusters as needed\n",
        "    kmeans = KMeans(n_clusters=num_clusters, random_state=0)\n",
        "    kmeans.fit(tfidf_matrix)\n",
        "\n",
        "    cluster_label = kmeans.labels_[idx]\n",
        "    similar_movies_indices = [i for i, label in enumerate(kmeans.labels_) if label == cluster_label]\n",
        "\n",
        "    # Remove the input movie from the recommendations\n",
        "    similar_movies_indices.remove(idx)\n",
        "\n",
        "    # Return the top 10 most similar movies\n",
        "    return df['title'].iloc[similar_movies_indices[:num_recommend]]"
      ],
      "metadata": {
        "id": "j8lFIBKzeFbR"
      },
      "execution_count": null,
      "outputs": []
    },
    {
      "cell_type": "code",
      "source": [
        "print(\"TF-IDF and Cosine Similarity Recommendations:\")\n",
        "print(get_recommendations('Power Rangers Zeo', num_recommend=20))"
      ],
      "metadata": {
        "id": "EJZxymHRedW7",
        "colab": {
          "base_uri": "https://localhost:8080/"
        },
        "outputId": "2898ff43-3057-4479-8f55-e004b218909e"
      },
      "execution_count": null,
      "outputs": [
        {
          "output_type": "stream",
          "name": "stdout",
          "text": [
            "TF-IDF and Cosine Similarity Recommendations:\n",
            "3723                                    Power Rangers RPM\n",
            "3725                                Power Rangers Samurai\n",
            "4637              The Adventures of Sharkboy and Lavagirl\n",
            "3715                           Power Rangers Dino Thunder\n",
            "3717                            Power Rangers Jungle Fury\n",
            "5222                                            Possessed\n",
            "4039                                      The Witch Files\n",
            "3716                               Power Rangers in Space\n",
            "6030                         Mighty Morphin Power Rangers\n",
            "3733         Power Rangers Super Samurai: Trickster Treat\n",
            "3732      Power Rangers Super Samurai: Stuck on Christmas\n",
            "3065                          NOVA: The Impossible Flight\n",
            "5648                                       Peaky Blinders\n",
            "5852                                               The OA\n",
            "3722                    Power Rangers Operation Overdrive\n",
            "5935                               SWORDGAI The Animation\n",
            "3728    Power Rangers Samurai: Party Monsters (Hallowe...\n",
            "3729                        Power Rangers Super Megaforce\n",
            "3735                                  Power Rangers Turbo\n",
            "3731                          Power Rangers Super Samurai\n",
            "Name: title, dtype: object\n"
          ]
        }
      ]
    },
    {
      "cell_type": "code",
      "source": [
        "print(\"KNN Recommendations:\")\n",
        "print(knn_recommendations('Power Rangers Zeo', num_recommend=20))\n"
      ],
      "metadata": {
        "id": "xwAa55-nedTc",
        "colab": {
          "base_uri": "https://localhost:8080/",
          "height": 332
        },
        "outputId": "77bb71c3-7db0-4040-db30-31dbd00877c5"
      },
      "execution_count": null,
      "outputs": [
        {
          "output_type": "stream",
          "name": "stdout",
          "text": [
            "KNN Recommendations:\n"
          ]
        },
        {
          "output_type": "error",
          "ename": "UnboundLocalError",
          "evalue": "ignored",
          "traceback": [
            "\u001b[0;31m---------------------------------------------------------------------------\u001b[0m",
            "\u001b[0;31mUnboundLocalError\u001b[0m                         Traceback (most recent call last)",
            "\u001b[0;32m<ipython-input-28-eb0c48534452>\u001b[0m in \u001b[0;36m<cell line: 2>\u001b[0;34m()\u001b[0m\n\u001b[1;32m      1\u001b[0m \u001b[0mprint\u001b[0m\u001b[0;34m(\u001b[0m\u001b[0;34m\"KNN Recommendations:\"\u001b[0m\u001b[0;34m)\u001b[0m\u001b[0;34m\u001b[0m\u001b[0;34m\u001b[0m\u001b[0m\n\u001b[0;32m----> 2\u001b[0;31m \u001b[0mprint\u001b[0m\u001b[0;34m(\u001b[0m\u001b[0mknn_recommendations\u001b[0m\u001b[0;34m(\u001b[0m\u001b[0;34m'Power Rangers Zeo'\u001b[0m\u001b[0;34m,\u001b[0m \u001b[0mnum_recommend\u001b[0m\u001b[0;34m=\u001b[0m\u001b[0;36m20\u001b[0m\u001b[0;34m)\u001b[0m\u001b[0;34m)\u001b[0m\u001b[0;34m\u001b[0m\u001b[0;34m\u001b[0m\u001b[0m\n\u001b[0m",
            "\u001b[0;32m<ipython-input-25-2266f9dfed63>\u001b[0m in \u001b[0;36mknn_recommendations\u001b[0;34m(title, num_recommend)\u001b[0m\n\u001b[1;32m      1\u001b[0m \u001b[0;32mdef\u001b[0m \u001b[0mknn_recommendations\u001b[0m\u001b[0;34m(\u001b[0m\u001b[0mtitle\u001b[0m\u001b[0;34m,\u001b[0m \u001b[0mnum_recommend\u001b[0m\u001b[0;34m=\u001b[0m\u001b[0;36m10\u001b[0m\u001b[0;34m)\u001b[0m\u001b[0;34m:\u001b[0m\u001b[0;34m\u001b[0m\u001b[0;34m\u001b[0m\u001b[0m\n\u001b[0;32m----> 2\u001b[0;31m     \u001b[0midx\u001b[0m \u001b[0;34m=\u001b[0m \u001b[0mindices\u001b[0m\u001b[0;34m[\u001b[0m\u001b[0mtitle\u001b[0m\u001b[0;34m]\u001b[0m\u001b[0;34m\u001b[0m\u001b[0;34m\u001b[0m\u001b[0m\n\u001b[0m\u001b[1;32m      3\u001b[0m \u001b[0;34m\u001b[0m\u001b[0m\n\u001b[1;32m      4\u001b[0m     \u001b[0;31m# Fit a KNN model to find the nearest neighbors\u001b[0m\u001b[0;34m\u001b[0m\u001b[0;34m\u001b[0m\u001b[0m\n\u001b[1;32m      5\u001b[0m     \u001b[0mknn\u001b[0m \u001b[0;34m=\u001b[0m \u001b[0mNearestNeighbors\u001b[0m\u001b[0;34m(\u001b[0m\u001b[0mn_neighbors\u001b[0m\u001b[0;34m=\u001b[0m\u001b[0mnum_recommend\u001b[0m \u001b[0;34m+\u001b[0m \u001b[0;36m1\u001b[0m\u001b[0;34m,\u001b[0m \u001b[0mmetric\u001b[0m\u001b[0;34m=\u001b[0m\u001b[0;34m'cosine'\u001b[0m\u001b[0;34m)\u001b[0m\u001b[0;34m\u001b[0m\u001b[0;34m\u001b[0m\u001b[0m\n",
            "\u001b[0;31mUnboundLocalError\u001b[0m: local variable 'indices' referenced before assignment"
          ]
        }
      ]
    },
    {
      "cell_type": "code",
      "source": [
        "print(\"K-Means Recommendations:\")\n",
        "print(kmeans_recommendations('Power Rangers Zeo', num_recommend=20))"
      ],
      "metadata": {
        "id": "g7zz-1nmedQv",
        "colab": {
          "base_uri": "https://localhost:8080/"
        },
        "outputId": "a98dade7-1938-4b56-a0a4-1838f3e6f238"
      },
      "execution_count": null,
      "outputs": [
        {
          "output_type": "stream",
          "name": "stdout",
          "text": [
            "K-Means Recommendations:\n"
          ]
        },
        {
          "output_type": "stream",
          "name": "stderr",
          "text": [
            "/usr/local/lib/python3.10/dist-packages/sklearn/cluster/_kmeans.py:870: FutureWarning: The default value of `n_init` will change from 10 to 'auto' in 1.4. Set the value of `n_init` explicitly to suppress the warning\n",
            "  warnings.warn(\n"
          ]
        },
        {
          "output_type": "stream",
          "name": "stdout",
          "text": [
            "24                                  The Runner\n",
            "61                                   Frequency\n",
            "91                               Hold the Dark\n",
            "127                             China Salesman\n",
            "149                                      Hilda\n",
            "167                                   The Bund\n",
            "190                   When the Camellia Blooms\n",
            "271                              Locked on You\n",
            "310                         My Sister's Keeper\n",
            "314                                Open Season\n",
            "342                               Murder Party\n",
            "387    Offline - Das leben ist kein bonuslevel\n",
            "388                                  Resurface\n",
            "400                          A Noble Intention\n",
            "407                                   Full Out\n",
            "410                                 Lucky Days\n",
            "414                            The Fierce Wife\n",
            "415                              The Womanizer\n",
            "460                                 Compulsion\n",
            "472                      Zumbo's Just Desserts\n",
            "Name: title, dtype: object\n"
          ]
        }
      ]
    },
    {
      "cell_type": "code",
      "source": [
        "# Load the dataset\n",
        "df = pd.read_csv('netflix_titles.csv')\n",
        "df['description'] = df['description'].fillna('')\n",
        "\n",
        "# Create a TfidfVectorizer and remove stopwords\n",
        "tfidf = TfidfVectorizer(stop_words='english')\n",
        "tfidf_matrix = tfidf.fit_transform(df['description'])\n",
        "\n",
        "# Fit a K-Means model to cluster similar movie descriptions\n",
        "num_clusters = 5  # You can adjust the number of clusters as needed\n",
        "kmeans = KMeans(n_clusters=num_clusters, random_state=0)\n",
        "kmeans.fit(tfidf_matrix)\n",
        "\n",
        "# Add the cluster labels to the DataFrame\n",
        "df['cluster'] = kmeans.labels_"
      ],
      "metadata": {
        "id": "9K93aRMqelcR",
        "colab": {
          "base_uri": "https://localhost:8080/"
        },
        "outputId": "4779c660-ab59-4479-da14-656cc5cc7e4f"
      },
      "execution_count": null,
      "outputs": [
        {
          "output_type": "stream",
          "name": "stderr",
          "text": [
            "/usr/local/lib/python3.10/dist-packages/sklearn/cluster/_kmeans.py:870: FutureWarning: The default value of `n_init` will change from 10 to 'auto' in 1.4. Set the value of `n_init` explicitly to suppress the warning\n",
            "  warnings.warn(\n"
          ]
        }
      ]
    },
    {
      "cell_type": "code",
      "source": [
        "# Function to get recommendations from the same cluster\n",
        "def kmeans_recommendations(title, num_recommend=10):\n",
        "    idx = indices[title]\n",
        "    cluster_label = df['cluster'].iloc[idx]\n",
        "\n",
        "    # Get movies from the same cluster, excluding the input movie\n",
        "    similar_movies = df[df['cluster'] == cluster_label]\n",
        "    similar_movies = similar_movies[similar_movies.index != idx]\n",
        "\n",
        "    # Sort by cluster similarity\n",
        "    similar_movies['similarity'] = kmeans.transform(tfidf_matrix)[idx]\n",
        "    similar_movies = similar_movies.sort_values(by='similarity')\n",
        "\n",
        "    # Return the top 10 most similar movies\n",
        "    return similar_movies.head(num_recommend)"
      ],
      "metadata": {
        "id": "L9x1Gr6SelY5"
      },
      "execution_count": null,
      "outputs": []
    },
    {
      "cell_type": "code",
      "source": [
        "print(\"K-Means Recommendations:\")\n",
        "print(kmeans_recommendations('Power Rangers Zeo', num_recommend=10))"
      ],
      "metadata": {
        "id": "IZqKujVWelWq",
        "colab": {
          "base_uri": "https://localhost:8080/",
          "height": 356
        },
        "outputId": "13dd7588-4122-4c54-c13e-4fbcae24958d"
      },
      "execution_count": null,
      "outputs": [
        {
          "output_type": "stream",
          "name": "stdout",
          "text": [
            "K-Means Recommendations:\n"
          ]
        },
        {
          "output_type": "error",
          "ename": "ValueError",
          "evalue": "ignored",
          "traceback": [
            "\u001b[0;31m---------------------------------------------------------------------------\u001b[0m",
            "\u001b[0;31mValueError\u001b[0m                                Traceback (most recent call last)",
            "\u001b[0;32m<ipython-input-16-3db7985ac0b0>\u001b[0m in \u001b[0;36m<cell line: 2>\u001b[0;34m()\u001b[0m\n\u001b[1;32m      1\u001b[0m \u001b[0mprint\u001b[0m\u001b[0;34m(\u001b[0m\u001b[0;34m\"K-Means Recommendations:\"\u001b[0m\u001b[0;34m)\u001b[0m\u001b[0;34m\u001b[0m\u001b[0;34m\u001b[0m\u001b[0m\n\u001b[0;32m----> 2\u001b[0;31m \u001b[0mprint\u001b[0m\u001b[0;34m(\u001b[0m\u001b[0mkmeans_recommendations\u001b[0m\u001b[0;34m(\u001b[0m\u001b[0;34m'Power Rangers Zeo'\u001b[0m\u001b[0;34m,\u001b[0m \u001b[0mnum_recommend\u001b[0m\u001b[0;34m=\u001b[0m\u001b[0;36m10\u001b[0m\u001b[0;34m)\u001b[0m\u001b[0;34m)\u001b[0m\u001b[0;34m\u001b[0m\u001b[0;34m\u001b[0m\u001b[0m\n\u001b[0m",
            "\u001b[0;32m<ipython-input-15-0a98ebfa11b1>\u001b[0m in \u001b[0;36mkmeans_recommendations\u001b[0;34m(title, num_recommend)\u001b[0m\n\u001b[1;32m      9\u001b[0m \u001b[0;34m\u001b[0m\u001b[0m\n\u001b[1;32m     10\u001b[0m     \u001b[0;31m# Sort by cluster similarity\u001b[0m\u001b[0;34m\u001b[0m\u001b[0;34m\u001b[0m\u001b[0m\n\u001b[0;32m---> 11\u001b[0;31m     \u001b[0msimilar_movies\u001b[0m\u001b[0;34m[\u001b[0m\u001b[0;34m'similarity'\u001b[0m\u001b[0;34m]\u001b[0m \u001b[0;34m=\u001b[0m \u001b[0mkmeans\u001b[0m\u001b[0;34m.\u001b[0m\u001b[0mtransform\u001b[0m\u001b[0;34m(\u001b[0m\u001b[0mtfidf_matrix\u001b[0m\u001b[0;34m)\u001b[0m\u001b[0;34m[\u001b[0m\u001b[0midx\u001b[0m\u001b[0;34m]\u001b[0m\u001b[0;34m\u001b[0m\u001b[0;34m\u001b[0m\u001b[0m\n\u001b[0m\u001b[1;32m     12\u001b[0m     \u001b[0msimilar_movies\u001b[0m \u001b[0;34m=\u001b[0m \u001b[0msimilar_movies\u001b[0m\u001b[0;34m.\u001b[0m\u001b[0msort_values\u001b[0m\u001b[0;34m(\u001b[0m\u001b[0mby\u001b[0m\u001b[0;34m=\u001b[0m\u001b[0;34m'similarity'\u001b[0m\u001b[0;34m)\u001b[0m\u001b[0;34m\u001b[0m\u001b[0;34m\u001b[0m\u001b[0m\n\u001b[1;32m     13\u001b[0m \u001b[0;34m\u001b[0m\u001b[0m\n",
            "\u001b[0;32m/usr/local/lib/python3.10/dist-packages/pandas/core/frame.py\u001b[0m in \u001b[0;36m__setitem__\u001b[0;34m(self, key, value)\u001b[0m\n\u001b[1;32m   3978\u001b[0m         \u001b[0;32melse\u001b[0m\u001b[0;34m:\u001b[0m\u001b[0;34m\u001b[0m\u001b[0;34m\u001b[0m\u001b[0m\n\u001b[1;32m   3979\u001b[0m             \u001b[0;31m# set column\u001b[0m\u001b[0;34m\u001b[0m\u001b[0;34m\u001b[0m\u001b[0m\n\u001b[0;32m-> 3980\u001b[0;31m             \u001b[0mself\u001b[0m\u001b[0;34m.\u001b[0m\u001b[0m_set_item\u001b[0m\u001b[0;34m(\u001b[0m\u001b[0mkey\u001b[0m\u001b[0;34m,\u001b[0m \u001b[0mvalue\u001b[0m\u001b[0;34m)\u001b[0m\u001b[0;34m\u001b[0m\u001b[0;34m\u001b[0m\u001b[0m\n\u001b[0m\u001b[1;32m   3981\u001b[0m \u001b[0;34m\u001b[0m\u001b[0m\n\u001b[1;32m   3982\u001b[0m     \u001b[0;32mdef\u001b[0m \u001b[0m_setitem_slice\u001b[0m\u001b[0;34m(\u001b[0m\u001b[0mself\u001b[0m\u001b[0;34m,\u001b[0m \u001b[0mkey\u001b[0m\u001b[0;34m:\u001b[0m \u001b[0mslice\u001b[0m\u001b[0;34m,\u001b[0m \u001b[0mvalue\u001b[0m\u001b[0;34m)\u001b[0m\u001b[0;34m:\u001b[0m\u001b[0;34m\u001b[0m\u001b[0;34m\u001b[0m\u001b[0m\n",
            "\u001b[0;32m/usr/local/lib/python3.10/dist-packages/pandas/core/frame.py\u001b[0m in \u001b[0;36m_set_item\u001b[0;34m(self, key, value)\u001b[0m\n\u001b[1;32m   4172\u001b[0m         \u001b[0mensure\u001b[0m \u001b[0mhomogeneity\u001b[0m\u001b[0;34m.\u001b[0m\u001b[0;34m\u001b[0m\u001b[0;34m\u001b[0m\u001b[0m\n\u001b[1;32m   4173\u001b[0m         \"\"\"\n\u001b[0;32m-> 4174\u001b[0;31m         \u001b[0mvalue\u001b[0m \u001b[0;34m=\u001b[0m \u001b[0mself\u001b[0m\u001b[0;34m.\u001b[0m\u001b[0m_sanitize_column\u001b[0m\u001b[0;34m(\u001b[0m\u001b[0mvalue\u001b[0m\u001b[0;34m)\u001b[0m\u001b[0;34m\u001b[0m\u001b[0;34m\u001b[0m\u001b[0m\n\u001b[0m\u001b[1;32m   4175\u001b[0m \u001b[0;34m\u001b[0m\u001b[0m\n\u001b[1;32m   4176\u001b[0m         if (\n",
            "\u001b[0;32m/usr/local/lib/python3.10/dist-packages/pandas/core/frame.py\u001b[0m in \u001b[0;36m_sanitize_column\u001b[0;34m(self, value)\u001b[0m\n\u001b[1;32m   4913\u001b[0m \u001b[0;34m\u001b[0m\u001b[0m\n\u001b[1;32m   4914\u001b[0m         \u001b[0;32mif\u001b[0m \u001b[0mis_list_like\u001b[0m\u001b[0;34m(\u001b[0m\u001b[0mvalue\u001b[0m\u001b[0;34m)\u001b[0m\u001b[0;34m:\u001b[0m\u001b[0;34m\u001b[0m\u001b[0;34m\u001b[0m\u001b[0m\n\u001b[0;32m-> 4915\u001b[0;31m             \u001b[0mcom\u001b[0m\u001b[0;34m.\u001b[0m\u001b[0mrequire_length_match\u001b[0m\u001b[0;34m(\u001b[0m\u001b[0mvalue\u001b[0m\u001b[0;34m,\u001b[0m \u001b[0mself\u001b[0m\u001b[0;34m.\u001b[0m\u001b[0mindex\u001b[0m\u001b[0;34m)\u001b[0m\u001b[0;34m\u001b[0m\u001b[0;34m\u001b[0m\u001b[0m\n\u001b[0m\u001b[1;32m   4916\u001b[0m         \u001b[0;32mreturn\u001b[0m \u001b[0msanitize_array\u001b[0m\u001b[0;34m(\u001b[0m\u001b[0mvalue\u001b[0m\u001b[0;34m,\u001b[0m \u001b[0mself\u001b[0m\u001b[0;34m.\u001b[0m\u001b[0mindex\u001b[0m\u001b[0;34m,\u001b[0m \u001b[0mcopy\u001b[0m\u001b[0;34m=\u001b[0m\u001b[0;32mTrue\u001b[0m\u001b[0;34m,\u001b[0m \u001b[0mallow_2d\u001b[0m\u001b[0;34m=\u001b[0m\u001b[0;32mTrue\u001b[0m\u001b[0;34m)\u001b[0m\u001b[0;34m\u001b[0m\u001b[0;34m\u001b[0m\u001b[0m\n\u001b[1;32m   4917\u001b[0m \u001b[0;34m\u001b[0m\u001b[0m\n",
            "\u001b[0;32m/usr/local/lib/python3.10/dist-packages/pandas/core/common.py\u001b[0m in \u001b[0;36mrequire_length_match\u001b[0;34m(data, index)\u001b[0m\n\u001b[1;32m    569\u001b[0m     \"\"\"\n\u001b[1;32m    570\u001b[0m     \u001b[0;32mif\u001b[0m \u001b[0mlen\u001b[0m\u001b[0;34m(\u001b[0m\u001b[0mdata\u001b[0m\u001b[0;34m)\u001b[0m \u001b[0;34m!=\u001b[0m \u001b[0mlen\u001b[0m\u001b[0;34m(\u001b[0m\u001b[0mindex\u001b[0m\u001b[0;34m)\u001b[0m\u001b[0;34m:\u001b[0m\u001b[0;34m\u001b[0m\u001b[0;34m\u001b[0m\u001b[0m\n\u001b[0;32m--> 571\u001b[0;31m         raise ValueError(\n\u001b[0m\u001b[1;32m    572\u001b[0m             \u001b[0;34m\"Length of values \"\u001b[0m\u001b[0;34m\u001b[0m\u001b[0;34m\u001b[0m\u001b[0m\n\u001b[1;32m    573\u001b[0m             \u001b[0;34mf\"({len(data)}) \"\u001b[0m\u001b[0;34m\u001b[0m\u001b[0;34m\u001b[0m\u001b[0m\n",
            "\u001b[0;31mValueError\u001b[0m: Length of values (5) does not match length of index (4168)"
          ]
        }
      ]
    },
    {
      "cell_type": "code",
      "source": [
        "# Import libraries\n",
        "\n",
        "import pandas as pd\n",
        "from sklearn.feature_extraction.text import TfidfVectorizer\n",
        "from sklearn.metrics.pairwise import linear_kernel\n",
        "from sklearn.neighbors import NearestNeighbors\n",
        "from sklearn.cluster import KMeans\n",
        "\n",
        "\n",
        "# Import necessary libraries (if not already imported)\n",
        "#import pandas as pd\n",
        "#from sklearn.feature_extraction.text import TfidfVectorizer\n",
        "#from sklearn.cluster import KMeans\n",
        "\n",
        "df = pd.read_csv('netflix_titles.csv')\n",
        "# Replace NaN with an empty string\n",
        "df['description'] = df['description'].fillna('')\n",
        "\n",
        "\n",
        "# Create a TfidfVectorizer and Remove stopwords\n",
        "tfidf = TfidfVectorizer(stop_words='english')\n",
        "# Fit and transform the data to a tfidf matrix\n",
        "tfidf_matrix = tfidf.fit_transform(df['description'])\n",
        "# Print the shape of the tfidf_matrix\n",
        "tfidf_matrix.shape\n",
        "\n",
        "\n",
        "# Compute the cosine similarity between each movie description\n",
        "cosine_sim = linear_kernel(tfidf_matrix, tfidf_matrix)\n",
        "\n",
        "\n",
        "indices = pd.Series(df.index, index=df['title']).drop_duplicates()\n",
        "\n",
        "\n",
        "def get_recommendations(title, cosine_sim=cosine_sim, num_recommend = 10):\n",
        "    idx = indices[title]\n",
        "# Get the pairwsie similarity scores of all movies with that movie\n",
        "    sim_scores = list(enumerate(cosine_sim[idx]))\n",
        "# Sort the movies based on the similarity scores\n",
        "    sim_scores = sorted(sim_scores, key=lambda x: x[1], reverse=True)\n",
        "# Get the scores of the 10 most similar movies\n",
        "    top_similar = sim_scores[1:num_recommend+1]\n",
        "# Get the movie indices\n",
        "    movie_indices = [i[0] for i in top_similar]\n",
        "# Return the top 10 most similar movies\n",
        "    return df['title'].iloc[movie_indices]\n",
        "\n",
        "\n",
        "get_recommendations('Power Rangers Zeo', num_recommend = 20)\n",
        "\n",
        "\n",
        "def knn_recommendations(title, num_recommend=10):\n",
        "    idx = indices['title']\n",
        "\n",
        "    # Fit a KNN model to find the nearest neighbors\n",
        "    knn = NearestNeighbors(n_neighbors=num_recommend + 1, metric='cosine')\n",
        "    knn.fit(tfidf_matrix)\n",
        "\n",
        "    distances, indices = knn.kneighbors(tfidf_matrix[idx], n_neighbors=num_recommend + 1)\n",
        "\n",
        "    # Get the indices of the most similar movies\n",
        "    movie_indices = indices.flatten()[1:]\n",
        "\n",
        "    # Return the top 10 most similar movies\n",
        "    return df['title'].iloc[movie_indices]\n",
        "\n",
        "def kmeans_recommendations(title, num_recommend=10):\n",
        "    idx = indices[title]\n",
        "\n",
        "    # Fit a K-Means model to cluster similar movie descriptions\n",
        "    num_clusters = 10  # You can adjust the number of clusters as needed\n",
        "    kmeans = KMeans(n_clusters=num_clusters, random_state=0)\n",
        "    kmeans.fit(tfidf_matrix)\n",
        "\n",
        "    cluster_label = kmeans.labels_[idx]\n",
        "    similar_movies_indices = [i for i, label in enumerate(kmeans.labels_) if label == cluster_label]\n",
        "\n",
        "    # Remove the input movie from the recommendations\n",
        "    similar_movies_indices.remove(idx)\n",
        "\n",
        "    # Return the top 10 most similar movies\n",
        "    return df['title'].iloc[similar_movies_indices[:num_recommend]]\n",
        "\n",
        "\n",
        "print(\"TF-IDF and Cosine Similarity Recommendations:\")\n",
        "print(get_recommendations('Power Rangers Zeo', num_recommend=20))\n",
        "\n",
        "print(\"KNN Recommendations:\")\n",
        "print(knn_recommendations('Power Rangers Zeo', num_recommend=20))\n",
        "\n",
        "print(\"K-Means Recommendations:\")\n",
        "print(kmeans_recommendations('Power Rangers Zeo', num_recommend=20))\n",
        "\n",
        "\n",
        "\n",
        "\n",
        "\n",
        "\n",
        "# Load the dataset\n",
        "df = pd.read_csv('netflix_titles.csv')\n",
        "df['description'] = df['description'].fillna('')\n",
        "\n",
        "# Create a TfidfVectorizer and remove stopwords\n",
        "tfidf = TfidfVectorizer(stop_words='english')\n",
        "tfidf_matrix = tfidf.fit_transform(df['description'])\n",
        "\n",
        "# Fit a K-Means model to cluster similar movie descriptions\n",
        "num_clusters = 5  # You can adjust the number of clusters as needed\n",
        "kmeans = KMeans(n_clusters=num_clusters, random_state=0)\n",
        "kmeans.fit(tfidf_matrix)\n",
        "\n",
        "# Add the cluster labels to the DataFrame\n",
        "df['cluster'] = kmeans.labels_\n",
        "\n",
        "# Function to get recommendations from the same cluster\n",
        "def kmeans_recommendations(title, num_recommend=10):\n",
        "    idx = indices[title]\n",
        "    cluster_label = df['cluster'].iloc[idx]\n",
        "\n",
        "    # Get movies from the same cluster, excluding the input movie\n",
        "    similar_movies = df[df['cluster'] == cluster_label]\n",
        "    similar_movies = similar_movies[similar_movies.index != idx]\n",
        "\n",
        "    # Sort by cluster similarity\n",
        "    similar_movies['similarity'] = kmeans.transform(tfidf_matrix)[idx]\n",
        "    similar_movies = similar_movies.sort_values(by='similarity')\n",
        "\n",
        "    # Return the top 10 most similar movies\n",
        "    return similar_movies.head(num_recommend)\n",
        "\n",
        "print(\"K-Means Recommendations:\")\n",
        "print(kmeans_recommendations('Power Rangers Zeo', num_recommend=10))"
      ],
      "metadata": {
        "id": "pDsYqIWEelUK",
        "colab": {
          "base_uri": "https://localhost:8080/",
          "height": 765
        },
        "outputId": "d5b35efe-db7c-4baa-f92e-6cb9f20ffd48"
      },
      "execution_count": null,
      "outputs": [
        {
          "output_type": "stream",
          "name": "stdout",
          "text": [
            "TF-IDF and Cosine Similarity Recommendations:\n",
            "3723                                    Power Rangers RPM\n",
            "3725                                Power Rangers Samurai\n",
            "4637              The Adventures of Sharkboy and Lavagirl\n",
            "3715                           Power Rangers Dino Thunder\n",
            "3717                            Power Rangers Jungle Fury\n",
            "5222                                            Possessed\n",
            "4039                                      The Witch Files\n",
            "3716                               Power Rangers in Space\n",
            "6030                         Mighty Morphin Power Rangers\n",
            "3733         Power Rangers Super Samurai: Trickster Treat\n",
            "3732      Power Rangers Super Samurai: Stuck on Christmas\n",
            "3065                          NOVA: The Impossible Flight\n",
            "5648                                       Peaky Blinders\n",
            "5852                                               The OA\n",
            "3722                    Power Rangers Operation Overdrive\n",
            "5935                               SWORDGAI The Animation\n",
            "3728    Power Rangers Samurai: Party Monsters (Hallowe...\n",
            "3729                        Power Rangers Super Megaforce\n",
            "3735                                  Power Rangers Turbo\n",
            "3731                          Power Rangers Super Samurai\n",
            "Name: title, dtype: object\n",
            "KNN Recommendations:\n"
          ]
        },
        {
          "output_type": "error",
          "ename": "UnboundLocalError",
          "evalue": "ignored",
          "traceback": [
            "\u001b[0;31m---------------------------------------------------------------------------\u001b[0m",
            "\u001b[0;31mUnboundLocalError\u001b[0m                         Traceback (most recent call last)",
            "\u001b[0;32m<ipython-input-17-c33b83b8d839>\u001b[0m in \u001b[0;36m<cell line: 89>\u001b[0;34m()\u001b[0m\n\u001b[1;32m     87\u001b[0m \u001b[0;34m\u001b[0m\u001b[0m\n\u001b[1;32m     88\u001b[0m \u001b[0mprint\u001b[0m\u001b[0;34m(\u001b[0m\u001b[0;34m\"KNN Recommendations:\"\u001b[0m\u001b[0;34m)\u001b[0m\u001b[0;34m\u001b[0m\u001b[0;34m\u001b[0m\u001b[0m\n\u001b[0;32m---> 89\u001b[0;31m \u001b[0mprint\u001b[0m\u001b[0;34m(\u001b[0m\u001b[0mknn_recommendations\u001b[0m\u001b[0;34m(\u001b[0m\u001b[0;34m'Power Rangers Zeo'\u001b[0m\u001b[0;34m,\u001b[0m \u001b[0mnum_recommend\u001b[0m\u001b[0;34m=\u001b[0m\u001b[0;36m20\u001b[0m\u001b[0;34m)\u001b[0m\u001b[0;34m)\u001b[0m\u001b[0;34m\u001b[0m\u001b[0;34m\u001b[0m\u001b[0m\n\u001b[0m\u001b[1;32m     90\u001b[0m \u001b[0;34m\u001b[0m\u001b[0m\n\u001b[1;32m     91\u001b[0m \u001b[0mprint\u001b[0m\u001b[0;34m(\u001b[0m\u001b[0;34m\"K-Means Recommendations:\"\u001b[0m\u001b[0;34m)\u001b[0m\u001b[0;34m\u001b[0m\u001b[0;34m\u001b[0m\u001b[0m\n",
            "\u001b[0;32m<ipython-input-17-c33b83b8d839>\u001b[0m in \u001b[0;36mknn_recommendations\u001b[0;34m(title, num_recommend)\u001b[0m\n\u001b[1;32m     51\u001b[0m \u001b[0;34m\u001b[0m\u001b[0m\n\u001b[1;32m     52\u001b[0m \u001b[0;32mdef\u001b[0m \u001b[0mknn_recommendations\u001b[0m\u001b[0;34m(\u001b[0m\u001b[0mtitle\u001b[0m\u001b[0;34m,\u001b[0m \u001b[0mnum_recommend\u001b[0m\u001b[0;34m=\u001b[0m\u001b[0;36m10\u001b[0m\u001b[0;34m)\u001b[0m\u001b[0;34m:\u001b[0m\u001b[0;34m\u001b[0m\u001b[0;34m\u001b[0m\u001b[0m\n\u001b[0;32m---> 53\u001b[0;31m     \u001b[0midx\u001b[0m \u001b[0;34m=\u001b[0m \u001b[0mindices\u001b[0m\u001b[0;34m[\u001b[0m\u001b[0mtitle\u001b[0m\u001b[0;34m]\u001b[0m\u001b[0;34m\u001b[0m\u001b[0;34m\u001b[0m\u001b[0m\n\u001b[0m\u001b[1;32m     54\u001b[0m \u001b[0;34m\u001b[0m\u001b[0m\n\u001b[1;32m     55\u001b[0m     \u001b[0;31m# Fit a KNN model to find the nearest neighbors\u001b[0m\u001b[0;34m\u001b[0m\u001b[0;34m\u001b[0m\u001b[0m\n",
            "\u001b[0;31mUnboundLocalError\u001b[0m: local variable 'indices' referenced before assignment"
          ]
        }
      ]
    },
    {
      "cell_type": "code",
      "source": [],
      "metadata": {
        "id": "vaypBvef3lG0"
      },
      "execution_count": null,
      "outputs": []
    }
  ]
}